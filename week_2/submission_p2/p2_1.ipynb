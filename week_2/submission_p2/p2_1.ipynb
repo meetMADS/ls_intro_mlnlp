{
 "cells": [
  {
   "cell_type": "code",
   "execution_count": 1,
   "id": "17a6a62b",
   "metadata": {},
   "outputs": [
    {
     "name": "stderr",
     "output_type": "stream",
     "text": [
      "[nltk_data] Downloading package punkt to\n",
      "[nltk_data]     C:\\Users\\meetm\\AppData\\Roaming\\nltk_data...\n",
      "[nltk_data]   Package punkt is already up-to-date!\n",
      "[nltk_data] Downloading package wordnet to\n",
      "[nltk_data]     C:\\Users\\meetm\\AppData\\Roaming\\nltk_data...\n",
      "[nltk_data]   Package wordnet is already up-to-date!\n",
      "[nltk_data] Downloading package omw-1.4 to\n",
      "[nltk_data]     C:\\Users\\meetm\\AppData\\Roaming\\nltk_data...\n",
      "[nltk_data]   Package omw-1.4 is already up-to-date!\n"
     ]
    },
    {
     "data": {
      "text/plain": [
       "True"
      ]
     },
     "execution_count": 1,
     "metadata": {},
     "output_type": "execute_result"
    }
   ],
   "source": [
    "import pandas as pd\n",
    "import numpy as np\n",
    "import re\n",
    "import nltk\n",
    "from nltk.corpus import stopwords\n",
    "from nltk.stem import WordNetLemmatizer\n",
    "from sklearn.linear_model import LogisticRegression\n",
    "from sklearn.model_selection import train_test_split\n",
    "from sklearn.metrics import accuracy_score\n",
    "import gensim.downloader as api\n",
    "\n",
    "nltk.download('punkt')\n",
    "nltk.download('wordnet')\n",
    "nltk.download('omw-1.4')"
   ]
  },
  {
   "cell_type": "code",
   "execution_count": 2,
   "id": "6ef3ec8c",
   "metadata": {},
   "outputs": [],
   "source": [
    "import re\n",
    "from nltk.stem import WordNetLemmatizer\n",
    "\n",
    "lemmatizer = WordNetLemmatizer()\n",
    "\n",
    "contractions = {\n",
    "    \"don't\": \"do not\", \"can't\": \"cannot\", \"i'm\": \"i am\",\n",
    "    \"it's\": \"it is\", \"you're\": \"you are\", \"they're\": \"they are\"\n",
    "}\n",
    "\n",
    "def preprocess(text):\n",
    "    text = text.lower()\n",
    "    text = re.sub(r\"http\\S+|@\\w+|#\\w+|[^\\w\\s]\", \" \", text)  \n",
    "    text = \" \".join([contractions.get(word, word) for word in text.split()])\n",
    "    tokens = re.findall(r'\\b[a-z]+\\b', text) \n",
    "    return [lemmatizer.lemmatize(w) for w in tokens]"
   ]
  },
  {
   "cell_type": "code",
   "execution_count": 4,
   "id": "1c4b68e5",
   "metadata": {},
   "outputs": [],
   "source": [
    "df = pd.read_csv('Tweets.csv', encoding='ISO-8859-1') \n",
    "df.columns = df.columns.str.strip()\n",
    "\n",
    "df = df[['text', 'airline_sentiment']].dropna()\n",
    "\n",
    "df['tokens'] = df['text'].apply(preprocess)\n"
   ]
  },
  {
   "cell_type": "code",
   "execution_count": 6,
   "id": "65530815",
   "metadata": {},
   "outputs": [],
   "source": [
    "w2v = api.load(\"word2vec-google-news-300\")"
   ]
  },
  {
   "cell_type": "code",
   "execution_count": 7,
   "id": "ec12a6e2",
   "metadata": {},
   "outputs": [],
   "source": [
    "def tweet_to_vec(tokens, w2v_model):\n",
    "    vecs = [w2v_model[word] for word in tokens if word in w2v_model]\n",
    "    return np.mean(vecs, axis=0) if vecs else np.zeros(300)\n",
    "\n",
    "df['vector'] = df['tokens'].apply(lambda x: tweet_to_vec(x, w2v))\n",
    "X = np.vstack(df['vector'].values)\n",
    "y = df['airline_sentiment']"
   ]
  },
  {
   "cell_type": "code",
   "execution_count": 8,
   "id": "2363c96e",
   "metadata": {},
   "outputs": [
    {
     "name": "stdout",
     "output_type": "stream",
     "text": [
      "Accuracy: 0.7855191256830601\n"
     ]
    }
   ],
   "source": [
    "X_train, X_test, y_train, y_test = train_test_split(X, y, test_size=0.2, random_state=42)\n",
    "clf = LogisticRegression(max_iter=1000)\n",
    "clf.fit(X_train, y_train)\n",
    "print(\"Accuracy:\", accuracy_score(y_test, clf.predict(X_test)))"
   ]
  },
  {
   "cell_type": "code",
   "execution_count": 9,
   "id": "cea23d3e",
   "metadata": {},
   "outputs": [],
   "source": [
    "def predict_tweet_sentiment(model, w2v_model, tweet):\n",
    "    tokens = preprocess(tweet)\n",
    "    vec = tweet_to_vec(tokens, w2v_model)\n",
    "    return model.predict([vec])[0]"
   ]
  },
  {
   "cell_type": "code",
   "execution_count": 12,
   "id": "518ef83c",
   "metadata": {},
   "outputs": [
    {
     "name": "stdout",
     "output_type": "stream",
     "text": [
      "Original: @VirginAmerica I can't believe it's already 2025! ✈️ #travel http://virgin.com\n",
      "negative\n",
      "--------\n",
      "Original: I'm LOVING the new in-flight WiFi! :) #win\n",
      "positive\n",
      "--------\n",
      "Original: Ugh... delays again. This is why I don't fly with them anymore.\n",
      "negative\n",
      "--------\n",
      "Original: Just boarded @Delta — hope it's better than last time. 🤞\n",
      "negative\n",
      "--------\n",
      "Original: Great service, comfy seats, and friendly staff! Thanks :)\n",
      "positive\n",
      "--------\n"
     ]
    }
   ],
   "source": [
    "test_tweets = [\n",
    "    \"@VirginAmerica I can't believe it's already 2025! ✈️ #travel http://virgin.com\",\n",
    "    \"I'm LOVING the new in-flight WiFi! :) #win\",\n",
    "    \"Ugh... delays again. This is why I don't fly with them anymore.\",\n",
    "    \"Just boarded @Delta — hope it's better than last time. 🤞\",\n",
    "    \"Great service, comfy seats, and friendly staff! Thanks :)\",\n",
    "]\n",
    "\n",
    "for tweet in test_tweets:\n",
    "    print(\"Original:\", tweet)\n",
    "    sentiment=predict_tweet_sentiment(clf, w2v,tweet)\n",
    "    print(sentiment)\n",
    "    print(\"--------\")\n"
   ]
  }
 ],
 "metadata": {
  "kernelspec": {
   "display_name": "Python 3",
   "language": "python",
   "name": "python3"
  },
  "language_info": {
   "codemirror_mode": {
    "name": "ipython",
    "version": 3
   },
   "file_extension": ".py",
   "mimetype": "text/x-python",
   "name": "python",
   "nbconvert_exporter": "python",
   "pygments_lexer": "ipython3",
   "version": "3.11.9"
  }
 },
 "nbformat": 4,
 "nbformat_minor": 5
}
